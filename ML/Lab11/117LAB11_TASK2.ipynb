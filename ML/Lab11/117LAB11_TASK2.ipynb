{
  "nbformat": 4,
  "nbformat_minor": 0,
  "metadata": {
    "colab": {
      "name": "117LAB11-TASK2.ipynb",
      "provenance": []
    },
    "kernelspec": {
      "name": "python3",
      "display_name": "Python 3"
    },
    "language_info": {
      "name": "python"
    }
  },
  "cells": [
    {
      "cell_type": "markdown",
      "metadata": {
        "id": "8fF7x1c8FSJA"
      },
      "source": [
        "**CE117**\n",
        "\n",
        "Assignment: Perform SVM with PCA operation on Breast Cancer Dataset and Iris Dataset.\n"
      ]
    },
    {
      "cell_type": "code",
      "metadata": {
        "id": "RMwbduvVFRvE"
      },
      "source": [
        "import numpy as np \n",
        "import matplotlib.pyplot as plt \n",
        "from sklearn.decomposition import PCA \n",
        "import pandas as pd \n",
        "import math \n",
        "import random \n",
        "from sklearn import datasets"
      ],
      "execution_count": 1,
      "outputs": []
    },
    {
      "cell_type": "code",
      "metadata": {
        "id": "-AJFI8TSFhT9"
      },
      "source": [
        "dataset = datasets.load_breast_cancer()"
      ],
      "execution_count": 2,
      "outputs": []
    },
    {
      "cell_type": "code",
      "metadata": {
        "colab": {
          "base_uri": "https://localhost:8080/"
        },
        "id": "0pJ8HTVjFj8h",
        "outputId": "1942d59e-d8a2-47a7-9125-186e1213c348"
      },
      "source": [
        "dataset.data.shape"
      ],
      "execution_count": 3,
      "outputs": [
        {
          "output_type": "execute_result",
          "data": {
            "text/plain": [
              "(569, 30)"
            ]
          },
          "metadata": {},
          "execution_count": 3
        }
      ]
    },
    {
      "cell_type": "code",
      "metadata": {
        "colab": {
          "base_uri": "https://localhost:8080/"
        },
        "id": "X3IXB8mlFmmC",
        "outputId": "885e04f0-e9d5-4b25-f091-3d0c533309ad"
      },
      "source": [
        "dataset.target.shape"
      ],
      "execution_count": 4,
      "outputs": [
        {
          "output_type": "execute_result",
          "data": {
            "text/plain": [
              "(569,)"
            ]
          },
          "metadata": {},
          "execution_count": 4
        }
      ]
    },
    {
      "cell_type": "code",
      "metadata": {
        "colab": {
          "base_uri": "https://localhost:8080/"
        },
        "id": "Qps6fFFFFrMQ",
        "outputId": "3e1bd549-fd75-4525-b057-27ff15da4cc9"
      },
      "source": [
        "dataset.feature_names"
      ],
      "execution_count": 5,
      "outputs": [
        {
          "output_type": "execute_result",
          "data": {
            "text/plain": [
              "array(['mean radius', 'mean texture', 'mean perimeter', 'mean area',\n",
              "       'mean smoothness', 'mean compactness', 'mean concavity',\n",
              "       'mean concave points', 'mean symmetry', 'mean fractal dimension',\n",
              "       'radius error', 'texture error', 'perimeter error', 'area error',\n",
              "       'smoothness error', 'compactness error', 'concavity error',\n",
              "       'concave points error', 'symmetry error',\n",
              "       'fractal dimension error', 'worst radius', 'worst texture',\n",
              "       'worst perimeter', 'worst area', 'worst smoothness',\n",
              "       'worst compactness', 'worst concavity', 'worst concave points',\n",
              "       'worst symmetry', 'worst fractal dimension'], dtype='<U23')"
            ]
          },
          "metadata": {},
          "execution_count": 5
        }
      ]
    },
    {
      "cell_type": "code",
      "metadata": {
        "colab": {
          "base_uri": "https://localhost:8080/"
        },
        "id": "IGqfgCekFwAS",
        "outputId": "6ab48a54-7535-4b41-cfe2-a3de87d93bf4"
      },
      "source": [
        "dataset.target_names"
      ],
      "execution_count": 6,
      "outputs": [
        {
          "output_type": "execute_result",
          "data": {
            "text/plain": [
              "array(['malignant', 'benign'], dtype='<U9')"
            ]
          },
          "metadata": {},
          "execution_count": 6
        }
      ]
    },
    {
      "cell_type": "code",
      "metadata": {
        "id": "cFZbgTxUFzp2"
      },
      "source": [
        "from sklearn.model_selection import train_test_split\n",
        "x_train, x_test, y_train, y_test = train_test_split(dataset.data, dataset.target, test_size = 0.2,random_state=117) #roll no 117"
      ],
      "execution_count": 7,
      "outputs": []
    },
    {
      "cell_type": "markdown",
      "metadata": {
        "id": "lDKdl6lIF5Ou"
      },
      "source": [
        "**SVM Without Applying Dimensinality Reduction.**"
      ]
    },
    {
      "cell_type": "code",
      "metadata": {
        "id": "MHwZeT1rF6MU"
      },
      "source": [
        "from sklearn import svm,metrics\n",
        "model = svm.SVC(kernel='linear')\n",
        "model.fit(x_train,y_train)\n",
        "pred = model.predict(x_test)"
      ],
      "execution_count": 8,
      "outputs": []
    },
    {
      "cell_type": "code",
      "metadata": {
        "colab": {
          "base_uri": "https://localhost:8080/"
        },
        "id": "RBdplsE8F_LI",
        "outputId": "22ab7f9b-6b61-4558-f26b-d58b725cfcae"
      },
      "source": [
        "print(\"Accuracy:\",metrics.accuracy_score(y_test, pred))\n",
        "print(\"Precision:\",metrics.precision_score(y_test, pred))\n",
        "print(\"Recall:\",metrics.recall_score(y_test,pred))"
      ],
      "execution_count": 9,
      "outputs": [
        {
          "output_type": "stream",
          "name": "stdout",
          "text": [
            "Accuracy: 0.9473684210526315\n",
            "Precision: 0.9375\n",
            "Recall: 0.9868421052631579\n"
          ]
        }
      ]
    },
    {
      "cell_type": "markdown",
      "metadata": {
        "id": "w8OJNEgmGIOY"
      },
      "source": [
        "**SVM With Dimensinality Reduction.**"
      ]
    },
    {
      "cell_type": "code",
      "metadata": {
        "id": "KIsbZ-ziGGz0"
      },
      "source": [
        "pca = PCA(n_components=25) \n",
        "pca_fit = pca.fit(dataset.data)"
      ],
      "execution_count": 10,
      "outputs": []
    },
    {
      "cell_type": "code",
      "metadata": {
        "id": "9NeXunLdGORp"
      },
      "source": [
        "pca_tran = pca_fit.transform(dataset.data)"
      ],
      "execution_count": 11,
      "outputs": []
    },
    {
      "cell_type": "code",
      "metadata": {
        "colab": {
          "base_uri": "https://localhost:8080/"
        },
        "id": "Mk1g29XjGSC6",
        "outputId": "0ce3f936-3e1a-4c76-898b-4605a11521b8"
      },
      "source": [
        "column_list=dataset.feature_names\n",
        "print(type(column_list))\n",
        "\n",
        "column_list=list(column_list)\n",
        "print(type(column_list))\n",
        "\n",
        "dataPCA = pd.DataFrame(data = pca_tran, columns = column_list[:25])"
      ],
      "execution_count": 12,
      "outputs": [
        {
          "output_type": "stream",
          "name": "stdout",
          "text": [
            "<class 'numpy.ndarray'>\n",
            "<class 'list'>\n"
          ]
        }
      ]
    },
    {
      "cell_type": "code",
      "metadata": {
        "id": "xqGv4waGGWg6"
      },
      "source": [
        "x_tr, x_ts, y_tr, y_ts = train_test_split(dataPCA, dataset.target, test_size = 0.2,random_state=117) #roll no 117"
      ],
      "execution_count": 13,
      "outputs": []
    },
    {
      "cell_type": "code",
      "metadata": {
        "colab": {
          "base_uri": "https://localhost:8080/"
        },
        "id": "oAhwcrTeGcGJ",
        "outputId": "2ba5fd4b-04d6-4131-9848-5515822e0893"
      },
      "source": [
        "x_tr.shape"
      ],
      "execution_count": 14,
      "outputs": [
        {
          "output_type": "execute_result",
          "data": {
            "text/plain": [
              "(455, 25)"
            ]
          },
          "metadata": {},
          "execution_count": 14
        }
      ]
    },
    {
      "cell_type": "code",
      "metadata": {
        "colab": {
          "base_uri": "https://localhost:8080/"
        },
        "id": "UgwZMv74Gd79",
        "outputId": "62fd9530-8f16-423e-c556-23c29b2c5eeb"
      },
      "source": [
        "y_tr.shape"
      ],
      "execution_count": 15,
      "outputs": [
        {
          "output_type": "execute_result",
          "data": {
            "text/plain": [
              "(455,)"
            ]
          },
          "metadata": {},
          "execution_count": 15
        }
      ]
    },
    {
      "cell_type": "code",
      "metadata": {
        "id": "8bGafotCGgFx"
      },
      "source": [
        "model1 = svm.SVC(kernel='linear')\n",
        "model1.fit(x_tr,y_tr)\n",
        "pred1 = model1.predict(x_ts)"
      ],
      "execution_count": 16,
      "outputs": []
    },
    {
      "cell_type": "code",
      "metadata": {
        "colab": {
          "base_uri": "https://localhost:8080/"
        },
        "id": "BUl1Wk6rGil_",
        "outputId": "2bf2dc98-1a79-417a-e538-752b6736160b"
      },
      "source": [
        "from sklearn import metrics\n",
        "print(\"Accuracy:\",metrics.accuracy_score(y_ts, pred1))\n",
        "print(\"Precision:\",metrics.precision_score(y_ts, pred1))\n",
        "print(\"Recall:\",metrics.recall_score(y_ts, pred1))"
      ],
      "execution_count": 17,
      "outputs": [
        {
          "output_type": "stream",
          "name": "stdout",
          "text": [
            "Accuracy: 0.9473684210526315\n",
            "Precision: 0.9375\n",
            "Recall: 0.9868421052631579\n"
          ]
        }
      ]
    },
    {
      "cell_type": "markdown",
      "metadata": {
        "id": "n4twtEEMGn3M"
      },
      "source": [
        "For random state 117 i am getting same metrices parameter.\n",
        "\n",
        "\n",
        "---\n",
        "Accuracy: 0.9473684210526315\n",
        "\n",
        "Precision: 0.9375\n",
        "\n",
        "Recall: 0.9868421052631579\n",
        "\n",
        "---\n",
        "\n",
        "Accuracy: 0.9473684210526315\n",
        "\n",
        "Precision: 0.9375\n",
        "\n",
        "Recall: 0.9868421052631579"
      ]
    }
  ]
}