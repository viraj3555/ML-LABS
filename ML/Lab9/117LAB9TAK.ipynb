{
  "nbformat": 4,
  "nbformat_minor": 0,
  "metadata": {
    "colab": {
      "name": "117LAB9TAK.ipynb",
      "provenance": []
    },
    "kernelspec": {
      "name": "python3",
      "display_name": "Python 3"
    },
    "language_info": {
      "name": "python"
    }
  },
  "cells": [
    {
      "cell_type": "markdown",
      "metadata": {
        "id": "59gymvznnnW9"
      },
      "source": [
        "### **Assignment:**"
      ]
    },
    {
      "cell_type": "markdown",
      "metadata": {
        "id": "udQ-OkE5ntYZ"
      },
      "source": [
        "Try SVM classifier on MNIST dataset, compare the preformance of linear, polynomial and RBF kernels."
      ]
    },
    {
      "cell_type": "code",
      "metadata": {
        "id": "Wa5IthLhnw4r"
      },
      "source": [
        "import numpy as np\n",
        "import matplotlib.pyplot as plt\n",
        "from sklearn import metrics\n",
        "from sklearn.svm import SVC\n",
        "from tensorflow.keras import datasets\n",
        "from sklearn.model_selection import train_test_split"
      ],
      "execution_count": 1,
      "outputs": []
    },
    {
      "cell_type": "code",
      "metadata": {
        "colab": {
          "base_uri": "https://localhost:8080/"
        },
        "id": "NgOtTM8Sn47Y",
        "outputId": "36735240-c989-4151-d8e2-bba38edb53f6"
      },
      "source": [
        "(x_train, y_train), (x_test, y_test) = datasets.mnist.load_data()"
      ],
      "execution_count": 2,
      "outputs": [
        {
          "output_type": "stream",
          "name": "stdout",
          "text": [
            "Downloading data from https://storage.googleapis.com/tensorflow/tf-keras-datasets/mnist.npz\n",
            "11493376/11490434 [==============================] - 0s 0us/step\n",
            "11501568/11490434 [==============================] - 0s 0us/step\n"
          ]
        }
      ]
    },
    {
      "cell_type": "code",
      "metadata": {
        "colab": {
          "base_uri": "https://localhost:8080/"
        },
        "id": "fJ_Qmckyn_K3",
        "outputId": "777cbef1-5976-4f2f-ed98-c2888119933d"
      },
      "source": [
        "x_train.shape"
      ],
      "execution_count": 3,
      "outputs": [
        {
          "output_type": "execute_result",
          "data": {
            "text/plain": [
              "(60000, 28, 28)"
            ]
          },
          "metadata": {},
          "execution_count": 3
        }
      ]
    },
    {
      "cell_type": "code",
      "metadata": {
        "colab": {
          "base_uri": "https://localhost:8080/"
        },
        "id": "OeqMGgS3oCYI",
        "outputId": "39f3554a-ce76-42ee-d145-bed13543bc08"
      },
      "source": [
        "x_test.shape"
      ],
      "execution_count": 4,
      "outputs": [
        {
          "output_type": "execute_result",
          "data": {
            "text/plain": [
              "(10000, 28, 28)"
            ]
          },
          "metadata": {},
          "execution_count": 4
        }
      ]
    },
    {
      "cell_type": "code",
      "metadata": {
        "colab": {
          "base_uri": "https://localhost:8080/"
        },
        "id": "LGD9QeiMoFiO",
        "outputId": "f760cb9b-50b4-4c5d-8bb5-47077eedf638"
      },
      "source": [
        "y_train.shape"
      ],
      "execution_count": 5,
      "outputs": [
        {
          "output_type": "execute_result",
          "data": {
            "text/plain": [
              "(60000,)"
            ]
          },
          "metadata": {},
          "execution_count": 5
        }
      ]
    },
    {
      "cell_type": "code",
      "metadata": {
        "colab": {
          "base_uri": "https://localhost:8080/"
        },
        "id": "7DZ27ye2oIBC",
        "outputId": "e6decd73-5e03-43c4-8d9d-d070eb190c8f"
      },
      "source": [
        "y_test.shape"
      ],
      "execution_count": 6,
      "outputs": [
        {
          "output_type": "execute_result",
          "data": {
            "text/plain": [
              "(10000,)"
            ]
          },
          "metadata": {},
          "execution_count": 6
        }
      ]
    },
    {
      "cell_type": "code",
      "metadata": {
        "id": "dLPoSAOPoKpG"
      },
      "source": [
        "x_train = x_train.reshape(-1,28*28)\n",
        "x_test=x_test.reshape(-1,28*28)"
      ],
      "execution_count": 7,
      "outputs": []
    },
    {
      "cell_type": "code",
      "metadata": {
        "colab": {
          "base_uri": "https://localhost:8080/"
        },
        "id": "uM1WmIZDoNLN",
        "outputId": "03eb3c7f-f5af-49f5-8a73-59c66808622b"
      },
      "source": [
        "x_train.shape"
      ],
      "execution_count": 8,
      "outputs": [
        {
          "output_type": "execute_result",
          "data": {
            "text/plain": [
              "(60000, 784)"
            ]
          },
          "metadata": {},
          "execution_count": 8
        }
      ]
    },
    {
      "cell_type": "code",
      "metadata": {
        "colab": {
          "base_uri": "https://localhost:8080/"
        },
        "id": "Hi_WXEjkoP38",
        "outputId": "452446bf-5a82-4ca8-cb2b-9230560a618e"
      },
      "source": [
        "x_test.shape"
      ],
      "execution_count": 9,
      "outputs": [
        {
          "output_type": "execute_result",
          "data": {
            "text/plain": [
              "(10000, 784)"
            ]
          },
          "metadata": {},
          "execution_count": 9
        }
      ]
    },
    {
      "cell_type": "code",
      "metadata": {
        "id": "Ijxlhc3poSq4"
      },
      "source": [
        "x_train=x_train/255\n",
        "x_test=x_test/255"
      ],
      "execution_count": 10,
      "outputs": []
    },
    {
      "cell_type": "markdown",
      "metadata": {
        "id": "BvZguauAoVWH"
      },
      "source": [
        "### **Linear Model**"
      ]
    },
    {
      "cell_type": "code",
      "metadata": {
        "id": "6_9aYVMooXB1"
      },
      "source": [
        "model = SVC(kernel='linear',random_state=117) #roll no 117\n",
        "model.fit(x_train,y_train)\n",
        "pred = model.predict(x_test)"
      ],
      "execution_count": 12,
      "outputs": []
    },
    {
      "cell_type": "code",
      "metadata": {
        "colab": {
          "base_uri": "https://localhost:8080/"
        },
        "id": "V_RjBf93rN2X",
        "outputId": "ca0b3984-1851-4802-f371-cd6d580a64e2"
      },
      "source": [
        "\n",
        "print(pred)\n"
      ],
      "execution_count": 13,
      "outputs": [
        {
          "output_type": "stream",
          "name": "stdout",
          "text": [
            "[7 2 1 ... 4 5 6]\n"
          ]
        }
      ]
    },
    {
      "cell_type": "code",
      "metadata": {
        "colab": {
          "base_uri": "https://localhost:8080/"
        },
        "id": "C7a639NErSLJ",
        "outputId": "e19bc396-d611-47f5-af75-e72b91ea33d6"
      },
      "source": [
        "from sklearn import metrics\n",
        "print(\"Accuracy:\",metrics.accuracy_score(y_test, pred))\n",
        "print(\"Precision Score : \",metrics.precision_score(y_test, pred, pos_label='positive' ,average='micro'))\n",
        "print(\"Recall Score : \",metrics.recall_score(y_test, pred, pos_label='positive',average='micro'))"
      ],
      "execution_count": 14,
      "outputs": [
        {
          "output_type": "stream",
          "name": "stdout",
          "text": [
            "Accuracy: 0.9404\n",
            "Precision Score :  0.9404\n",
            "Recall Score :  0.9404\n"
          ]
        },
        {
          "output_type": "stream",
          "name": "stderr",
          "text": [
            "/usr/local/lib/python3.7/dist-packages/sklearn/metrics/_classification.py:1321: UserWarning: Note that pos_label (set to 'positive') is ignored when average != 'binary' (got 'micro'). You may use labels=[pos_label] to specify a single positive class.\n",
            "  % (pos_label, average), UserWarning)\n"
          ]
        }
      ]
    },
    {
      "cell_type": "markdown",
      "metadata": {
        "id": "Lq9D1EP4rWuw"
      },
      "source": [
        "### **Polynomial Model**"
      ]
    },
    {
      "cell_type": "code",
      "metadata": {
        "id": "hp9KRRb1rYxz"
      },
      "source": [
        "####polynomial model\n",
        "\n",
        "model1 = SVC(kernel='poly',degree=3,gamma='scale',random_state=117) #roll no 117\n",
        "model1.fit(x_train,y_train)\n",
        "pred1 = model1.predict(x_test)"
      ],
      "execution_count": 15,
      "outputs": []
    },
    {
      "cell_type": "code",
      "metadata": {
        "colab": {
          "base_uri": "https://localhost:8080/"
        },
        "id": "TBtzoynDuPLN",
        "outputId": "5b79d980-f89f-4c6f-d82a-c92470695db6"
      },
      "source": [
        "print(pred1)"
      ],
      "execution_count": 16,
      "outputs": [
        {
          "output_type": "stream",
          "name": "stdout",
          "text": [
            "[7 2 1 ... 4 5 6]\n"
          ]
        }
      ]
    },
    {
      "cell_type": "code",
      "metadata": {
        "colab": {
          "base_uri": "https://localhost:8080/"
        },
        "id": "cHjkxx3LuVQo",
        "outputId": "3f7304d5-36d0-4475-831a-e98e7f9a6ce1"
      },
      "source": [
        "from sklearn import metrics\n",
        "print(\"Accuracy:\",metrics.accuracy_score(y_test, pred1))\n",
        "print(\"Precision Score : \",metrics.precision_score(y_test, pred1, pos_label='positive' ,average='micro'))\n",
        "print(\"Recall Score : \",metrics.recall_score(y_test, pred1, pos_label='positive',average='micro'))"
      ],
      "execution_count": 17,
      "outputs": [
        {
          "output_type": "stream",
          "name": "stdout",
          "text": [
            "Accuracy: 0.9771\n",
            "Precision Score :  0.9771\n",
            "Recall Score :  0.9771\n"
          ]
        },
        {
          "output_type": "stream",
          "name": "stderr",
          "text": [
            "/usr/local/lib/python3.7/dist-packages/sklearn/metrics/_classification.py:1321: UserWarning: Note that pos_label (set to 'positive') is ignored when average != 'binary' (got 'micro'). You may use labels=[pos_label] to specify a single positive class.\n",
            "  % (pos_label, average), UserWarning)\n"
          ]
        }
      ]
    },
    {
      "cell_type": "markdown",
      "metadata": {
        "id": "-NuRnrofuYbq"
      },
      "source": [
        "### **RBF Model**"
      ]
    },
    {
      "cell_type": "code",
      "metadata": {
        "id": "o6I4Jgvsua1H"
      },
      "source": [
        "from sklearn.svm import SVC\n",
        "model2 = SVC(kernel='rbf',gamma='scale',random_state=1)\n",
        "model2.fit(x_train,y_train)\n",
        "pred2 = model2.predict(x_test)"
      ],
      "execution_count": 18,
      "outputs": []
    },
    {
      "cell_type": "code",
      "metadata": {
        "colab": {
          "base_uri": "https://localhost:8080/"
        },
        "id": "PAWeDTnbxPp5",
        "outputId": "9a750ed3-4575-40b5-be68-35f2a34a3103"
      },
      "source": [
        "from sklearn import metrics\n",
        "print(\"Accuracy:\",metrics.accuracy_score(y_test, pred2))\n",
        "print(\"Precision Score : \",metrics.precision_score(y_test, pred2, pos_label='positive' ,average='micro'))\n",
        "print(\"Recall Score : \",metrics.recall_score(y_test, pred2, pos_label='positive',average='micro'))"
      ],
      "execution_count": 19,
      "outputs": [
        {
          "output_type": "stream",
          "name": "stdout",
          "text": [
            "Accuracy: 0.9792\n",
            "Precision Score :  0.9792\n",
            "Recall Score :  0.9792\n"
          ]
        },
        {
          "output_type": "stream",
          "name": "stderr",
          "text": [
            "/usr/local/lib/python3.7/dist-packages/sklearn/metrics/_classification.py:1321: UserWarning: Note that pos_label (set to 'positive') is ignored when average != 'binary' (got 'micro'). You may use labels=[pos_label] to specify a single positive class.\n",
            "  % (pos_label, average), UserWarning)\n"
          ]
        }
      ]
    }
  ]
}